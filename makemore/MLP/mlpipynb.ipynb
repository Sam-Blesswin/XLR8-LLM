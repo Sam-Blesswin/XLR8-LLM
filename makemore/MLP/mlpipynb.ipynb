{
  "nbformat": 4,
  "nbformat_minor": 0,
  "metadata": {
    "colab": {
      "provenance": [],
      "gpuType": "T4"
    },
    "kernelspec": {
      "name": "python3",
      "display_name": "Python 3"
    },
    "language_info": {
      "name": "python"
    },
    "accelerator": "GPU"
  },
  "cells": [
    {
      "cell_type": "code",
      "execution_count": 4,
      "metadata": {
        "id": "adIyF9sBH925"
      },
      "outputs": [],
      "source": [
        "import torch\n",
        "import torch.nn.functional as F\n",
        "import matplotlib.pyplot as plt"
      ]
    },
    {
      "cell_type": "code",
      "source": [
        "words = open(\"/content/names.txt\", 'r').read().splitlines()\n",
        "len(words)"
      ],
      "metadata": {
        "colab": {
          "base_uri": "https://localhost:8080/"
        },
        "id": "H4sRIXToIIl1",
        "outputId": "0529731b-1535-4d90-b824-6952e0d50b16"
      },
      "execution_count": 5,
      "outputs": [
        {
          "output_type": "execute_result",
          "data": {
            "text/plain": [
              "32033"
            ]
          },
          "metadata": {},
          "execution_count": 5
        }
      ]
    },
    {
      "cell_type": "code",
      "source": [
        "words[:5]"
      ],
      "metadata": {
        "colab": {
          "base_uri": "https://localhost:8080/"
        },
        "id": "kD2SnNUMKCi6",
        "outputId": "e4a7e6dc-adc5-4a20-fb91-d131e46c9afb"
      },
      "execution_count": 8,
      "outputs": [
        {
          "output_type": "execute_result",
          "data": {
            "text/plain": [
              "['emma', 'olivia', 'ava', 'isabella', 'sophia']"
            ]
          },
          "metadata": {},
          "execution_count": 8
        }
      ]
    },
    {
      "cell_type": "code",
      "source": [
        "chars = sorted(list(set(''.join(words))))\n",
        "stoi = {s:i+1 for i,s in enumerate(chars)}\n",
        "stoi['.'] = 0\n",
        "itos = {i:s for s,i in stoi.items()}"
      ],
      "metadata": {
        "id": "Pw1uWTfOIPWC"
      },
      "execution_count": 6,
      "outputs": []
    },
    {
      "cell_type": "code",
      "source": [
        "stoi"
      ],
      "metadata": {
        "collapsed": true,
        "colab": {
          "base_uri": "https://localhost:8080/"
        },
        "id": "VFtVcBbYJNz8",
        "outputId": "9ca4ec70-02d1-4494-b89b-28f8b3940653"
      },
      "execution_count": 10,
      "outputs": [
        {
          "output_type": "execute_result",
          "data": {
            "text/plain": [
              "{'a': 1,\n",
              " 'b': 2,\n",
              " 'c': 3,\n",
              " 'd': 4,\n",
              " 'e': 5,\n",
              " 'f': 6,\n",
              " 'g': 7,\n",
              " 'h': 8,\n",
              " 'i': 9,\n",
              " 'j': 10,\n",
              " 'k': 11,\n",
              " 'l': 12,\n",
              " 'm': 13,\n",
              " 'n': 14,\n",
              " 'o': 15,\n",
              " 'p': 16,\n",
              " 'q': 17,\n",
              " 'r': 18,\n",
              " 's': 19,\n",
              " 't': 20,\n",
              " 'u': 21,\n",
              " 'v': 22,\n",
              " 'w': 23,\n",
              " 'x': 24,\n",
              " 'y': 25,\n",
              " 'z': 26,\n",
              " '.': 0}"
            ]
          },
          "metadata": {},
          "execution_count": 10
        }
      ]
    },
    {
      "cell_type": "code",
      "source": [
        "#build dataset\n",
        "\n",
        "block_size = 3\n",
        "X, Y = [], []\n",
        "\n",
        "for w in words[:5]:\n",
        "  print(w)\n",
        "  context = [0] * block_size\n",
        "\n",
        "  for ch in w + '.':\n",
        "    X.append(context)\n",
        "    Y.append(stoi[ch])\n",
        "    print(''.join(itos[i] for i in context), '--->', ch)\n",
        "    context = context[1:] + [stoi[ch]]\n"
      ],
      "metadata": {
        "colab": {
          "base_uri": "https://localhost:8080/"
        },
        "collapsed": true,
        "id": "cvwzhL6bJQH2",
        "outputId": "0a4a1d0f-7ad4-425b-98a7-2b802570f46f"
      },
      "execution_count": 9,
      "outputs": [
        {
          "output_type": "stream",
          "name": "stdout",
          "text": [
            "emma\n",
            "... ---> e\n",
            "..e ---> m\n",
            ".em ---> m\n",
            "emm ---> a\n",
            "mma ---> .\n",
            "olivia\n",
            "... ---> o\n",
            "..o ---> l\n",
            ".ol ---> i\n",
            "oli ---> v\n",
            "liv ---> i\n",
            "ivi ---> a\n",
            "via ---> .\n",
            "ava\n",
            "... ---> a\n",
            "..a ---> v\n",
            ".av ---> a\n",
            "ava ---> .\n",
            "isabella\n",
            "... ---> i\n",
            "..i ---> s\n",
            ".is ---> a\n",
            "isa ---> b\n",
            "sab ---> e\n",
            "abe ---> l\n",
            "bel ---> l\n",
            "ell ---> a\n",
            "lla ---> .\n",
            "sophia\n",
            "... ---> s\n",
            "..s ---> o\n",
            ".so ---> p\n",
            "sop ---> h\n",
            "oph ---> i\n",
            "phi ---> a\n",
            "hia ---> .\n"
          ]
        }
      ]
    },
    {
      "cell_type": "code",
      "source": [
        "X = torch.tensor(X)\n",
        "Y = torch.tensor(Y)"
      ],
      "metadata": {
        "id": "F7GmYlCELSGX"
      },
      "execution_count": 11,
      "outputs": []
    },
    {
      "cell_type": "code",
      "source": [
        "# we have 32 inputs for first 5 words; each of context window 3\n",
        "\n",
        "X.shape, Y.shape"
      ],
      "metadata": {
        "colab": {
          "base_uri": "https://localhost:8080/"
        },
        "id": "k-R5tXuDLgcE",
        "outputId": "fdb0243d-d5ad-462e-dd63-8a7cf4fc8130"
      },
      "execution_count": 14,
      "outputs": [
        {
          "output_type": "execute_result",
          "data": {
            "text/plain": [
              "(torch.Size([32, 3]), torch.Size([32]))"
            ]
          },
          "metadata": {},
          "execution_count": 14
        }
      ]
    },
    {
      "cell_type": "code",
      "source": [
        "#creating embeddings\n",
        "#In the paper they try to fit 17000 words in 30 dimensional space\n",
        "\n",
        "#We have only 27 chars; so 2 dimensional space works for us\n",
        "C = torch.randn((27, 2))\n",
        "\n",
        "#indexing inputs with embeddings\n",
        "emb = C[X]"
      ],
      "metadata": {
        "collapsed": true,
        "id": "vnjnA0s8L2kO"
      },
      "execution_count": 24,
      "outputs": []
    },
    {
      "cell_type": "code",
      "source": [
        "C[[0,1,2]] #.em"
      ],
      "metadata": {
        "colab": {
          "base_uri": "https://localhost:8080/"
        },
        "id": "GLXXgMO4N6b-",
        "outputId": "09276813-c250-4f75-f8d2-ffc21d848131"
      },
      "execution_count": 25,
      "outputs": [
        {
          "output_type": "execute_result",
          "data": {
            "text/plain": [
              "tensor([[-1.3771, -0.9212],\n",
              "        [-1.0202,  0.2137],\n",
              "        [ 0.0523,  0.9162]])"
            ]
          },
          "metadata": {},
          "execution_count": 25
        }
      ]
    },
    {
      "cell_type": "code",
      "source": [
        "emb.shape"
      ],
      "metadata": {
        "colab": {
          "base_uri": "https://localhost:8080/"
        },
        "id": "77iQqFEgOdVi",
        "outputId": "cc485a2f-f6ea-4e71-c5c2-92b6a8b21cfd"
      },
      "execution_count": 26,
      "outputs": [
        {
          "output_type": "execute_result",
          "data": {
            "text/plain": [
              "torch.Size([32, 3, 2])"
            ]
          },
          "metadata": {},
          "execution_count": 26
        }
      ]
    },
    {
      "cell_type": "code",
      "source": [
        "#neurons\n",
        "\n",
        "w1 = torch.randn((6, 100)) #100 neurons each with 6 weights\n",
        "b1 = torch.randn(100)"
      ],
      "metadata": {
        "id": "TegcyiwJPClK"
      },
      "execution_count": 27,
      "outputs": []
    },
    {
      "cell_type": "code",
      "source": [
        "emb @ w1 + b1"
      ],
      "metadata": {
        "colab": {
          "base_uri": "https://localhost:8080/",
          "height": 144
        },
        "id": "fUqUPackQkY9",
        "outputId": "c30b64bd-4129-4ab4-c693-8b23a3772312"
      },
      "execution_count": 36,
      "outputs": [
        {
          "output_type": "error",
          "ename": "RuntimeError",
          "evalue": "mat1 and mat2 shapes cannot be multiplied (96x2 and 6x100)",
          "traceback": [
            "\u001b[0;31m---------------------------------------------------------------------------\u001b[0m",
            "\u001b[0;31mRuntimeError\u001b[0m                              Traceback (most recent call last)",
            "\u001b[0;32m/tmp/ipython-input-36-2976884104.py\u001b[0m in \u001b[0;36m<cell line: 0>\u001b[0;34m()\u001b[0m\n\u001b[0;32m----> 1\u001b[0;31m \u001b[0memb\u001b[0m \u001b[0;34m@\u001b[0m \u001b[0mw1\u001b[0m \u001b[0;34m+\u001b[0m \u001b[0mb1\u001b[0m\u001b[0;34m\u001b[0m\u001b[0;34m\u001b[0m\u001b[0m\n\u001b[0m",
            "\u001b[0;31mRuntimeError\u001b[0m: mat1 and mat2 shapes cannot be multiplied (96x2 and 6x100)"
          ]
        }
      ]
    },
    {
      "cell_type": "code",
      "source": [
        "w1.shape"
      ],
      "metadata": {
        "colab": {
          "base_uri": "https://localhost:8080/"
        },
        "id": "aPROc2VsQoOh",
        "outputId": "fd5e7be8-fd2c-45fd-c5a1-7f7b8b22e44d"
      },
      "execution_count": 37,
      "outputs": [
        {
          "output_type": "execute_result",
          "data": {
            "text/plain": [
              "torch.Size([6, 100])"
            ]
          },
          "metadata": {},
          "execution_count": 37
        }
      ]
    },
    {
      "cell_type": "code",
      "source": [
        "#emb => [32, 3, 2]\n",
        "#w1 => [6, 100]\n",
        "\n",
        "#need to unbind emb dimenstion to [32,6]"
      ],
      "metadata": {
        "id": "kACblzw0Q9U0"
      },
      "execution_count": null,
      "outputs": []
    },
    {
      "cell_type": "code",
      "source": [
        "torch.cat([emb[:,0,:], emb[:,1,:], emb[:,2,:]], 1).shape #1 way but context size changes need to modify again"
      ],
      "metadata": {
        "colab": {
          "base_uri": "https://localhost:8080/"
        },
        "id": "DczvUeBSRNv0",
        "outputId": "2cf6ed1b-1969-43a9-ccda-16c3ba5ea508"
      },
      "execution_count": 43,
      "outputs": [
        {
          "output_type": "execute_result",
          "data": {
            "text/plain": [
              "torch.Size([32, 6])"
            ]
          },
          "metadata": {},
          "execution_count": 43
        }
      ]
    },
    {
      "cell_type": "code",
      "source": [
        "len(torch.unbind(emb,1)) # equivalent to emb[:,0,:], emb[:,1,:], emb[:,2,:]"
      ],
      "metadata": {
        "colab": {
          "base_uri": "https://localhost:8080/"
        },
        "id": "n2lS7FZPRcgn",
        "outputId": "9f9545c9-75d9-4edd-80aa-915627c9983e"
      },
      "execution_count": 42,
      "outputs": [
        {
          "output_type": "execute_result",
          "data": {
            "text/plain": [
              "3"
            ]
          },
          "metadata": {},
          "execution_count": 42
        }
      ]
    },
    {
      "cell_type": "code",
      "source": [
        "torch.cat(torch.unbind(emb,1), 1).shape #2 more scalable; works for any context size #inefficient: creates additional memory"
      ],
      "metadata": {
        "colab": {
          "base_uri": "https://localhost:8080/"
        },
        "id": "dn3YLFvjSa0a",
        "outputId": "17a6e1c8-c8c5-4335-aef0-9b0655c73668"
      },
      "execution_count": 44,
      "outputs": [
        {
          "output_type": "execute_result",
          "data": {
            "text/plain": [
              "torch.Size([32, 6])"
            ]
          },
          "metadata": {},
          "execution_count": 44
        }
      ]
    },
    {
      "cell_type": "code",
      "source": [
        "#to check whether both are same\n",
        "torch.cat(torch.unbind(emb,1), 1) == torch.cat([emb[:,0,:], emb[:,1,:], emb[:,2,:]], 1)"
      ],
      "metadata": {
        "colab": {
          "base_uri": "https://localhost:8080/"
        },
        "collapsed": true,
        "id": "hEWuasD4SsIP",
        "outputId": "702d7253-6e96-4976-b193-68e8177feedd"
      },
      "execution_count": 45,
      "outputs": [
        {
          "output_type": "execute_result",
          "data": {
            "text/plain": [
              "tensor([[True, True, True, True, True, True],\n",
              "        [True, True, True, True, True, True],\n",
              "        [True, True, True, True, True, True],\n",
              "        [True, True, True, True, True, True],\n",
              "        [True, True, True, True, True, True],\n",
              "        [True, True, True, True, True, True],\n",
              "        [True, True, True, True, True, True],\n",
              "        [True, True, True, True, True, True],\n",
              "        [True, True, True, True, True, True],\n",
              "        [True, True, True, True, True, True],\n",
              "        [True, True, True, True, True, True],\n",
              "        [True, True, True, True, True, True],\n",
              "        [True, True, True, True, True, True],\n",
              "        [True, True, True, True, True, True],\n",
              "        [True, True, True, True, True, True],\n",
              "        [True, True, True, True, True, True],\n",
              "        [True, True, True, True, True, True],\n",
              "        [True, True, True, True, True, True],\n",
              "        [True, True, True, True, True, True],\n",
              "        [True, True, True, True, True, True],\n",
              "        [True, True, True, True, True, True],\n",
              "        [True, True, True, True, True, True],\n",
              "        [True, True, True, True, True, True],\n",
              "        [True, True, True, True, True, True],\n",
              "        [True, True, True, True, True, True],\n",
              "        [True, True, True, True, True, True],\n",
              "        [True, True, True, True, True, True],\n",
              "        [True, True, True, True, True, True],\n",
              "        [True, True, True, True, True, True],\n",
              "        [True, True, True, True, True, True],\n",
              "        [True, True, True, True, True, True],\n",
              "        [True, True, True, True, True, True]])"
            ]
          },
          "metadata": {},
          "execution_count": 45
        }
      ]
    },
    {
      "cell_type": "code",
      "source": [
        "#more efficient way #3\n",
        "\n",
        "emb.view(32,6)"
      ],
      "metadata": {
        "colab": {
          "base_uri": "https://localhost:8080/"
        },
        "collapsed": true,
        "id": "SlWKo-NNTg7I",
        "outputId": "3d474488-1adb-4718-cb53-1196d64ec768"
      },
      "execution_count": 46,
      "outputs": [
        {
          "output_type": "execute_result",
          "data": {
            "text/plain": [
              "tensor([[-1.3771, -0.9212, -1.3771, -0.9212, -1.3771, -0.9212],\n",
              "        [-1.3771, -0.9212, -1.3771, -0.9212, -0.1939, -1.0441],\n",
              "        [-1.3771, -0.9212, -0.1939, -1.0441, -1.0235,  0.1122],\n",
              "        [-0.1939, -1.0441, -1.0235,  0.1122, -1.0235,  0.1122],\n",
              "        [-1.0235,  0.1122, -1.0235,  0.1122, -1.0202,  0.2137],\n",
              "        [-1.3771, -0.9212, -1.3771, -0.9212, -1.3771, -0.9212],\n",
              "        [-1.3771, -0.9212, -1.3771, -0.9212, -0.0159, -0.4523],\n",
              "        [-1.3771, -0.9212, -0.0159, -0.4523,  1.6765, -0.3951],\n",
              "        [-0.0159, -0.4523,  1.6765, -0.3951, -0.1148,  0.8473],\n",
              "        [ 1.6765, -0.3951, -0.1148,  0.8473, -0.7418,  1.3312],\n",
              "        [-0.1148,  0.8473, -0.7418,  1.3312, -0.1148,  0.8473],\n",
              "        [-0.7418,  1.3312, -0.1148,  0.8473, -1.0202,  0.2137],\n",
              "        [-1.3771, -0.9212, -1.3771, -0.9212, -1.3771, -0.9212],\n",
              "        [-1.3771, -0.9212, -1.3771, -0.9212, -1.0202,  0.2137],\n",
              "        [-1.3771, -0.9212, -1.0202,  0.2137, -0.7418,  1.3312],\n",
              "        [-1.0202,  0.2137, -0.7418,  1.3312, -1.0202,  0.2137],\n",
              "        [-1.3771, -0.9212, -1.3771, -0.9212, -1.3771, -0.9212],\n",
              "        [-1.3771, -0.9212, -1.3771, -0.9212, -0.1148,  0.8473],\n",
              "        [-1.3771, -0.9212, -0.1148,  0.8473,  0.1551, -0.3299],\n",
              "        [-0.1148,  0.8473,  0.1551, -0.3299, -1.0202,  0.2137],\n",
              "        [ 0.1551, -0.3299, -1.0202,  0.2137,  0.0523,  0.9162],\n",
              "        [-1.0202,  0.2137,  0.0523,  0.9162, -0.1939, -1.0441],\n",
              "        [ 0.0523,  0.9162, -0.1939, -1.0441,  1.6765, -0.3951],\n",
              "        [-0.1939, -1.0441,  1.6765, -0.3951,  1.6765, -0.3951],\n",
              "        [ 1.6765, -0.3951,  1.6765, -0.3951, -1.0202,  0.2137],\n",
              "        [-1.3771, -0.9212, -1.3771, -0.9212, -1.3771, -0.9212],\n",
              "        [-1.3771, -0.9212, -1.3771, -0.9212,  0.1551, -0.3299],\n",
              "        [-1.3771, -0.9212,  0.1551, -0.3299, -0.0159, -0.4523],\n",
              "        [ 0.1551, -0.3299, -0.0159, -0.4523,  0.3943, -1.7620],\n",
              "        [-0.0159, -0.4523,  0.3943, -1.7620,  0.3337, -1.2705],\n",
              "        [ 0.3943, -1.7620,  0.3337, -1.2705, -0.1148,  0.8473],\n",
              "        [ 0.3337, -1.2705, -0.1148,  0.8473, -1.0202,  0.2137]])"
            ]
          },
          "metadata": {},
          "execution_count": 46
        }
      ]
    },
    {
      "cell_type": "code",
      "source": [
        "emb.view(32,6) == torch.cat(torch.unbind(emb,1), 1)"
      ],
      "metadata": {
        "colab": {
          "base_uri": "https://localhost:8080/"
        },
        "collapsed": true,
        "id": "LLJoijl0TrXp",
        "outputId": "350685e9-9f04-466b-bb1b-7b7472d9f825"
      },
      "execution_count": 49,
      "outputs": [
        {
          "output_type": "execute_result",
          "data": {
            "text/plain": [
              "tensor([[True, True, True, True, True, True],\n",
              "        [True, True, True, True, True, True],\n",
              "        [True, True, True, True, True, True],\n",
              "        [True, True, True, True, True, True],\n",
              "        [True, True, True, True, True, True],\n",
              "        [True, True, True, True, True, True],\n",
              "        [True, True, True, True, True, True],\n",
              "        [True, True, True, True, True, True],\n",
              "        [True, True, True, True, True, True],\n",
              "        [True, True, True, True, True, True],\n",
              "        [True, True, True, True, True, True],\n",
              "        [True, True, True, True, True, True],\n",
              "        [True, True, True, True, True, True],\n",
              "        [True, True, True, True, True, True],\n",
              "        [True, True, True, True, True, True],\n",
              "        [True, True, True, True, True, True],\n",
              "        [True, True, True, True, True, True],\n",
              "        [True, True, True, True, True, True],\n",
              "        [True, True, True, True, True, True],\n",
              "        [True, True, True, True, True, True],\n",
              "        [True, True, True, True, True, True],\n",
              "        [True, True, True, True, True, True],\n",
              "        [True, True, True, True, True, True],\n",
              "        [True, True, True, True, True, True],\n",
              "        [True, True, True, True, True, True],\n",
              "        [True, True, True, True, True, True],\n",
              "        [True, True, True, True, True, True],\n",
              "        [True, True, True, True, True, True],\n",
              "        [True, True, True, True, True, True],\n",
              "        [True, True, True, True, True, True],\n",
              "        [True, True, True, True, True, True],\n",
              "        [True, True, True, True, True, True]])"
            ]
          },
          "metadata": {},
          "execution_count": 49
        }
      ]
    },
    {
      "cell_type": "code",
      "source": [
        "emb.view(-1,6).shape #giving -1, pytorch figures out it the dim"
      ],
      "metadata": {
        "colab": {
          "base_uri": "https://localhost:8080/"
        },
        "id": "CmAqJvm2UZ-L",
        "outputId": "21593cc1-1a1d-47c5-f459-98876b6c807c"
      },
      "execution_count": 53,
      "outputs": [
        {
          "output_type": "execute_result",
          "data": {
            "text/plain": [
              "torch.Size([32, 6])"
            ]
          },
          "metadata": {},
          "execution_count": 53
        }
      ]
    },
    {
      "cell_type": "code",
      "source": [
        "b1.shape"
      ],
      "metadata": {
        "colab": {
          "base_uri": "https://localhost:8080/"
        },
        "id": "vHz2wWbCVJN8",
        "outputId": "9399c8d3-ad73-4264-e334-0a88ac2061fb"
      },
      "execution_count": 56,
      "outputs": [
        {
          "output_type": "execute_result",
          "data": {
            "text/plain": [
              "torch.Size([100])"
            ]
          },
          "metadata": {},
          "execution_count": 56
        }
      ]
    },
    {
      "cell_type": "code",
      "source": [
        "#emb => [32, 6]\n",
        "#w1 =>  [6, 100]\n",
        "#emb @ w1 + b => [32, 100] + [1, 100] #always verify broadcasting rules"
      ],
      "metadata": {
        "id": "gI59BHm8VK7T"
      },
      "execution_count": null,
      "outputs": []
    },
    {
      "cell_type": "code",
      "source": [
        "#hidden layer 1\n",
        "\n",
        "h = torch.tanh(emb.view(-1,6) @ w1 + b1)\n",
        "h"
      ],
      "metadata": {
        "colab": {
          "base_uri": "https://localhost:8080/"
        },
        "id": "pw_Rx0phTyDx",
        "outputId": "6d9182a4-df59-4937-b8e8-05525fab0e1f"
      },
      "execution_count": 65,
      "outputs": [
        {
          "output_type": "execute_result",
          "data": {
            "text/plain": [
              "tensor([[ 0.9583, -0.8144, -0.9977,  ...,  0.9811, -0.6774, -0.9651],\n",
              "        [ 0.7711, -0.4615, -0.7764,  ...,  0.6992, -0.8257, -0.9681],\n",
              "        [ 0.9804, -0.6771, -0.9958,  ..., -0.2496, -0.9933, -0.6171],\n",
              "        ...,\n",
              "        [ 0.8156,  0.8361, -0.0795,  ..., -0.9981,  0.4034, -0.3757],\n",
              "        [ 0.7471,  0.2320, -0.7502,  ..., -0.9717, -0.9757,  0.9240],\n",
              "        [ 0.0581, -0.3940, -0.9970,  ...,  0.9749, -0.6303,  0.6185]])"
            ]
          },
          "metadata": {},
          "execution_count": 65
        }
      ]
    },
    {
      "cell_type": "code",
      "source": [
        "h.shape"
      ],
      "metadata": {
        "colab": {
          "base_uri": "https://localhost:8080/"
        },
        "id": "SxYO_3q_UoET",
        "outputId": "57f0dd25-a9ad-41a1-ba08-fb22fb7975f8"
      },
      "execution_count": 66,
      "outputs": [
        {
          "output_type": "execute_result",
          "data": {
            "text/plain": [
              "torch.Size([32, 100])"
            ]
          },
          "metadata": {},
          "execution_count": 66
        }
      ]
    },
    {
      "cell_type": "code",
      "source": [
        "#hidden layer 2\n",
        "\n",
        "w2 = torch.randn((100,27));\n",
        "b2 = torch.randn(27)"
      ],
      "metadata": {
        "id": "Sf4gWpZ9Vktg"
      },
      "execution_count": 67,
      "outputs": []
    },
    {
      "cell_type": "code",
      "source": [
        "logits = h @ w2 + b2"
      ],
      "metadata": {
        "id": "wNhKfWKrW6Ht"
      },
      "execution_count": 68,
      "outputs": []
    },
    {
      "cell_type": "code",
      "source": [
        "count = logits.exp()\n",
        "probs = count / count.sum(1, keepdims=True)\n",
        "\n",
        "probs"
      ],
      "metadata": {
        "colab": {
          "base_uri": "https://localhost:8080/"
        },
        "collapsed": true,
        "id": "A20bmj_9XD11",
        "outputId": "26d36155-49b9-4285-f346-248a68690a9f"
      },
      "execution_count": 69,
      "outputs": [
        {
          "output_type": "execute_result",
          "data": {
            "text/plain": [
              "tensor([[4.0631e-12, 5.6930e-10, 1.2949e-10, 4.3155e-10, 1.7230e-03, 6.3836e-11,\n",
              "         7.7703e-09, 7.6147e-17, 1.7783e-05, 2.6310e-15, 1.1009e-11, 2.9776e-07,\n",
              "         2.4294e-12, 6.4739e-10, 6.3057e-16, 6.6445e-07, 2.6670e-11, 9.9825e-01,\n",
              "         3.9651e-06, 1.4497e-11, 2.2523e-07, 6.9681e-12, 1.1656e-06, 6.5057e-09,\n",
              "         1.0205e-10, 2.0522e-07, 3.9292e-11],\n",
              "        [1.5149e-13, 2.1533e-09, 6.6666e-11, 6.8366e-10, 1.8488e-06, 9.5198e-13,\n",
              "         6.4019e-05, 5.1793e-16, 1.9848e-07, 9.6597e-13, 1.3035e-09, 5.6484e-06,\n",
              "         3.3274e-15, 2.6442e-05, 2.0100e-16, 3.9841e-06, 8.4141e-12, 8.5980e-04,\n",
              "         5.9344e-05, 3.5518e-10, 1.0479e-08, 2.4524e-06, 9.9509e-01, 6.6772e-11,\n",
              "         1.2579e-13, 3.8835e-03, 2.4292e-12],\n",
              "        [8.9328e-12, 7.6123e-07, 3.5315e-06, 2.6713e-06, 2.7227e-03, 8.4372e-13,\n",
              "         1.2705e-08, 5.8817e-11, 6.5158e-03, 5.5155e-09, 2.3089e-07, 2.6405e-04,\n",
              "         3.2434e-07, 2.1682e-08, 9.8378e-12, 7.5817e-06, 3.9549e-05, 9.8171e-01,\n",
              "         1.5839e-08, 1.8046e-11, 3.1639e-06, 1.5058e-08, 1.3275e-04, 2.3269e-05,\n",
              "         2.7179e-08, 8.5727e-03, 4.2595e-08],\n",
              "        [5.3976e-09, 7.1484e-07, 1.2311e-12, 3.2708e-05, 1.9370e-03, 6.6111e-11,\n",
              "         1.1105e-11, 4.2284e-15, 5.4240e-07, 4.9988e-18, 4.6107e-15, 3.0859e-10,\n",
              "         4.1106e-07, 5.2184e-08, 2.4443e-11, 2.3140e-04, 1.0416e-10, 9.9765e-01,\n",
              "         1.4510e-04, 7.9165e-09, 3.0702e-07, 8.9300e-11, 1.1253e-09, 1.1721e-10,\n",
              "         1.2149e-06, 7.8203e-09, 6.3174e-16],\n",
              "        [3.1579e-14, 6.0300e-09, 5.9706e-14, 1.8019e-09, 1.3478e-07, 1.3366e-13,\n",
              "         1.2380e-15, 3.2669e-15, 7.8146e-06, 6.7991e-17, 5.8451e-17, 2.4113e-09,\n",
              "         2.0754e-15, 9.2221e-14, 1.2344e-18, 4.0353e-11, 3.7507e-13, 9.9999e-01,\n",
              "         1.6655e-07, 1.7714e-12, 1.1038e-08, 5.3529e-14, 1.0676e-12, 2.2705e-10,\n",
              "         3.5480e-14, 4.8008e-14, 6.9000e-17],\n",
              "        [4.0631e-12, 5.6930e-10, 1.2949e-10, 4.3155e-10, 1.7230e-03, 6.3836e-11,\n",
              "         7.7703e-09, 7.6147e-17, 1.7783e-05, 2.6310e-15, 1.1009e-11, 2.9776e-07,\n",
              "         2.4294e-12, 6.4739e-10, 6.3057e-16, 6.6445e-07, 2.6670e-11, 9.9825e-01,\n",
              "         3.9651e-06, 1.4497e-11, 2.2523e-07, 6.9681e-12, 1.1656e-06, 6.5057e-09,\n",
              "         1.0205e-10, 2.0522e-07, 3.9292e-11],\n",
              "        [1.0403e-12, 2.6820e-06, 4.1535e-08, 7.9205e-07, 8.8038e-06, 6.1860e-11,\n",
              "         4.6181e-05, 1.6096e-13, 2.6398e-04, 4.1993e-13, 8.7738e-09, 1.3970e-04,\n",
              "         4.4379e-13, 4.3777e-05, 2.4837e-13, 3.7396e-06, 1.9499e-10, 1.9302e-02,\n",
              "         6.6218e-03, 9.1483e-08, 3.8230e-07, 2.8563e-06, 8.9228e-01, 2.4852e-09,\n",
              "         3.6228e-12, 8.1287e-02, 4.2893e-11],\n",
              "        [9.4134e-15, 1.0572e-09, 4.4630e-07, 3.7182e-08, 4.0332e-12, 1.1741e-12,\n",
              "         5.2896e-06, 1.5316e-10, 2.2615e-09, 8.3735e-09, 2.1185e-10, 3.8346e-10,\n",
              "         1.2094e-08, 1.2654e-09, 2.2644e-13, 1.6334e-08, 2.4984e-08, 8.3168e-11,\n",
              "         8.7594e-16, 2.8999e-11, 1.1693e-14, 3.4637e-04, 9.4883e-01, 2.6798e-13,\n",
              "         1.8767e-14, 5.0820e-02, 7.1070e-11],\n",
              "        [2.8754e-07, 1.4073e-10, 8.9502e-01, 2.9125e-04, 1.3558e-08, 3.7334e-11,\n",
              "         1.4689e-10, 1.3272e-04, 2.0578e-08, 3.4409e-04, 1.3155e-08, 5.8586e-08,\n",
              "         2.8071e-02, 2.4293e-09, 7.1309e-02, 4.9928e-07, 2.1214e-09, 2.0769e-08,\n",
              "         6.3150e-15, 1.8849e-13, 4.8712e-11, 1.4472e-09, 3.3215e-06, 4.0869e-05,\n",
              "         4.7865e-03, 5.4443e-09, 1.3528e-07],\n",
              "        [1.7595e-01, 3.4778e-04, 4.8908e-07, 2.0038e-09, 3.0415e-09, 2.4574e-10,\n",
              "         1.1598e-09, 1.2002e-09, 5.3200e-11, 2.6415e-12, 6.4013e-19, 1.6967e-11,\n",
              "         8.4251e-06, 2.5238e-12, 9.5459e-02, 1.9632e-06, 9.2201e-14, 2.8053e-06,\n",
              "         8.8423e-09, 1.3973e-15, 9.9536e-12, 8.1809e-12, 1.2831e-11, 8.9626e-05,\n",
              "         7.2814e-01, 2.0420e-11, 1.2410e-12],\n",
              "        [6.6915e-01, 1.5700e-03, 4.1547e-05, 8.0144e-06, 1.3558e-07, 1.2819e-03,\n",
              "         3.7658e-11, 5.3089e-02, 1.2619e-05, 2.3839e-09, 4.9243e-16, 2.6063e-08,\n",
              "         8.4612e-05, 3.5555e-10, 9.0079e-05, 1.4404e-05, 9.8794e-11, 5.7609e-02,\n",
              "         1.7518e-03, 1.9065e-05, 7.0118e-03, 2.0770e-06, 2.0552e-09, 5.9116e-03,\n",
              "         2.0235e-01, 2.3840e-12, 7.3663e-10],\n",
              "        [7.7049e-08, 6.4289e-08, 1.6071e-05, 3.8055e-04, 2.7944e-08, 3.5903e-06,\n",
              "         1.5733e-14, 3.0930e-02, 5.3849e-05, 8.2904e-09, 8.3418e-11, 2.2591e-09,\n",
              "         7.6471e-10, 4.9679e-10, 6.4661e-06, 1.2306e-06, 1.6287e-08, 7.2910e-01,\n",
              "         2.3936e-01, 5.9152e-07, 3.5553e-05, 1.5837e-12, 5.2663e-09, 1.8346e-05,\n",
              "         9.1067e-05, 8.0173e-14, 5.0749e-10],\n",
              "        [4.0631e-12, 5.6930e-10, 1.2949e-10, 4.3155e-10, 1.7230e-03, 6.3836e-11,\n",
              "         7.7703e-09, 7.6147e-17, 1.7783e-05, 2.6310e-15, 1.1009e-11, 2.9776e-07,\n",
              "         2.4294e-12, 6.4739e-10, 6.3057e-16, 6.6445e-07, 2.6670e-11, 9.9825e-01,\n",
              "         3.9651e-06, 1.4497e-11, 2.2523e-07, 6.9681e-12, 1.1656e-06, 6.5057e-09,\n",
              "         1.0205e-10, 2.0522e-07, 3.9292e-11],\n",
              "        [3.6755e-14, 1.0952e-07, 1.4572e-12, 1.2475e-10, 3.2213e-07, 1.1111e-12,\n",
              "         1.9030e-11, 1.2723e-14, 8.9383e-06, 2.3609e-16, 7.9752e-15, 1.1944e-07,\n",
              "         1.0471e-12, 7.6357e-12, 1.3737e-14, 1.6296e-09, 1.1105e-10, 9.9999e-01,\n",
              "         8.1662e-08, 1.6013e-11, 2.5616e-06, 1.1416e-12, 9.0112e-09, 1.6594e-08,\n",
              "         6.7370e-13, 1.7283e-06, 7.5350e-14],\n",
              "        [5.4927e-13, 1.3335e-05, 5.9647e-13, 5.0768e-04, 1.6594e-08, 3.3485e-13,\n",
              "         2.8328e-13, 1.6487e-12, 6.9021e-04, 2.4012e-16, 3.2414e-14, 1.0987e-08,\n",
              "         7.8697e-09, 2.8276e-11, 3.8676e-13, 2.9756e-09, 4.3144e-11, 9.9878e-01,\n",
              "         9.4420e-08, 8.6755e-13, 1.5730e-06, 1.6080e-10, 1.7273e-11, 4.0185e-06,\n",
              "         4.3252e-10, 2.5120e-08, 1.3146e-12],\n",
              "        [9.6662e-09, 1.6579e-05, 3.4081e-10, 3.3699e-07, 5.6258e-05, 6.2520e-07,\n",
              "         1.3338e-12, 2.1928e-07, 3.7332e-06, 4.5141e-09, 7.7115e-16, 2.2907e-09,\n",
              "         8.0138e-12, 1.8997e-11, 1.1282e-11, 9.6142e-07, 3.0123e-10, 9.8146e-01,\n",
              "         3.4344e-03, 4.3477e-09, 7.0596e-07, 1.4687e-12, 8.2350e-12, 1.5019e-02,\n",
              "         4.4301e-06, 5.6886e-09, 5.6775e-13],\n",
              "        [4.0631e-12, 5.6930e-10, 1.2949e-10, 4.3155e-10, 1.7230e-03, 6.3836e-11,\n",
              "         7.7703e-09, 7.6147e-17, 1.7783e-05, 2.6310e-15, 1.1009e-11, 2.9776e-07,\n",
              "         2.4294e-12, 6.4739e-10, 6.3057e-16, 6.6445e-07, 2.6670e-11, 9.9825e-01,\n",
              "         3.9651e-06, 1.4497e-11, 2.2523e-07, 6.9681e-12, 1.1656e-06, 6.5057e-09,\n",
              "         1.0205e-10, 2.0522e-07, 3.9292e-11],\n",
              "        [4.8592e-10, 4.0295e-03, 8.1382e-08, 9.8467e-05, 1.2220e-05, 3.3160e-09,\n",
              "         1.9044e-05, 9.0539e-12, 1.9282e-01, 2.2237e-14, 1.5179e-09, 5.4672e-03,\n",
              "         2.9328e-09, 7.9639e-07, 9.2461e-07, 1.1231e-05, 2.4725e-06, 1.9294e-01,\n",
              "         7.9650e-04, 7.8761e-07, 1.5082e-03, 3.2670e-05, 4.8786e-05, 2.5496e-06,\n",
              "         2.3364e-10, 6.0221e-01, 1.8584e-09],\n",
              "        [3.4191e-09, 2.4887e-06, 1.5205e-05, 8.4736e-01, 4.7282e-05, 8.5359e-11,\n",
              "         6.4546e-10, 3.5419e-10, 1.2760e-01, 8.6834e-07, 4.3241e-11, 5.8486e-12,\n",
              "         1.0244e-06, 2.4575e-08, 4.3695e-10, 8.7806e-04, 1.6688e-05, 2.5659e-04,\n",
              "         1.5359e-02, 6.4455e-08, 3.9158e-06, 1.0413e-07, 1.5962e-03, 2.5978e-05,\n",
              "         1.9473e-05, 6.8157e-03, 3.3212e-10],\n",
              "        [7.2650e-09, 1.0448e-10, 3.5385e-02, 2.6987e-07, 2.0725e-04, 9.2925e-08,\n",
              "         3.4753e-09, 5.0695e-07, 1.2511e-07, 3.0594e-08, 5.5552e-08, 1.0781e-05,\n",
              "         1.3983e-08, 5.3402e-06, 4.5943e-05, 3.4771e-07, 1.5226e-10, 9.6433e-01,\n",
              "         5.2074e-06, 9.0563e-13, 7.3057e-06, 7.3546e-09, 3.7137e-08, 6.5083e-07,\n",
              "         1.6743e-06, 1.0325e-15, 5.3637e-10],\n",
              "        [2.5539e-03, 6.5817e-01, 3.2077e-07, 3.3725e-05, 9.9713e-10, 1.8221e-09,\n",
              "         3.9393e-09, 9.4809e-11, 3.7431e-08, 1.5960e-17, 9.1617e-17, 1.7040e-07,\n",
              "         3.7072e-08, 2.3521e-08, 2.9125e-04, 1.0052e-05, 7.9347e-12, 3.3818e-01,\n",
              "         1.5039e-04, 7.4082e-06, 2.2519e-05, 5.8291e-04, 2.7304e-08, 1.5993e-06,\n",
              "         1.1725e-06, 2.0137e-08, 8.6533e-12],\n",
              "        [3.4335e-09, 3.7720e-10, 4.0794e-04, 5.5359e-02, 3.4714e-04, 2.1191e-07,\n",
              "         4.9859e-09, 2.4815e-06, 7.6975e-01, 4.3252e-06, 3.0783e-11, 5.3683e-12,\n",
              "         5.2422e-10, 2.4676e-09, 6.2373e-07, 3.5750e-05, 1.0311e-07, 5.5260e-08,\n",
              "         1.7253e-01, 6.2735e-07, 4.2730e-06, 1.7215e-12, 1.9408e-05, 1.4774e-04,\n",
              "         1.3881e-03, 3.5439e-09, 3.1770e-09],\n",
              "        [6.3295e-12, 5.8341e-10, 9.6888e-05, 4.2328e-11, 7.1981e-11, 5.2701e-10,\n",
              "         2.5956e-04, 5.2014e-08, 1.6956e-10, 4.2904e-08, 4.6143e-11, 1.3031e-12,\n",
              "         7.9049e-09, 4.0954e-05, 1.1161e-04, 1.6662e-09, 1.7705e-08, 4.0643e-11,\n",
              "         4.3876e-14, 1.9338e-07, 2.0641e-12, 1.1248e-06, 9.9949e-01, 3.0557e-17,\n",
              "         8.2910e-10, 9.5373e-08, 1.9197e-15],\n",
              "        [1.3376e-08, 1.7245e-11, 6.5412e-06, 4.6970e-05, 3.4077e-14, 3.1352e-14,\n",
              "         8.2842e-08, 3.5076e-07, 2.1482e-11, 4.1470e-08, 2.7327e-11, 2.1172e-12,\n",
              "         8.1036e-06, 4.5581e-11, 1.3242e-04, 1.2494e-08, 6.8811e-06, 1.0408e-14,\n",
              "         8.5288e-17, 5.5307e-12, 4.4498e-13, 4.8251e-07, 9.9973e-01, 3.0474e-14,\n",
              "         5.1594e-11, 7.0569e-05, 1.3010e-09],\n",
              "        [3.2000e-05, 5.2824e-11, 1.4376e-01, 4.1925e-07, 1.2788e-06, 6.3564e-06,\n",
              "         2.2462e-12, 3.5595e-04, 8.7469e-11, 1.7260e-05, 2.3207e-09, 1.7427e-06,\n",
              "         4.2095e-02, 2.0320e-10, 5.5407e-01, 8.2048e-07, 8.7558e-09, 3.8450e-06,\n",
              "         6.4857e-13, 5.6112e-15, 1.8399e-10, 9.0060e-12, 8.4795e-10, 5.3309e-03,\n",
              "         2.5432e-01, 7.2073e-13, 1.8878e-10],\n",
              "        [4.0631e-12, 5.6930e-10, 1.2949e-10, 4.3155e-10, 1.7230e-03, 6.3836e-11,\n",
              "         7.7703e-09, 7.6147e-17, 1.7783e-05, 2.6310e-15, 1.1009e-11, 2.9776e-07,\n",
              "         2.4294e-12, 6.4739e-10, 6.3057e-16, 6.6445e-07, 2.6670e-11, 9.9825e-01,\n",
              "         3.9651e-06, 1.4497e-11, 2.2523e-07, 6.9681e-12, 1.1656e-06, 6.5057e-09,\n",
              "         1.0205e-10, 2.0522e-07, 3.9292e-11],\n",
              "        [1.9867e-12, 1.1577e-05, 2.8050e-07, 3.5931e-06, 4.0091e-06, 1.2943e-10,\n",
              "         1.0597e-04, 5.9086e-13, 6.6436e-04, 2.7719e-13, 1.7819e-08, 3.1877e-04,\n",
              "         1.3157e-12, 1.0112e-04, 2.1593e-12, 2.1359e-06, 6.1944e-10, 2.6887e-02,\n",
              "         5.2297e-03, 1.2565e-07, 6.2500e-07, 1.0329e-05, 8.0663e-01, 1.4746e-09,\n",
              "         4.8589e-12, 1.6003e-01, 8.8853e-11],\n",
              "        [1.3036e-13, 1.0471e-09, 1.8425e-06, 5.0404e-05, 8.9329e-05, 1.2201e-15,\n",
              "         6.4047e-09, 3.6729e-13, 7.9002e-06, 2.4807e-07, 2.9715e-08, 2.3534e-10,\n",
              "         1.2000e-08, 1.4060e-07, 2.4729e-11, 1.2742e-06, 2.5463e-06, 5.1680e-05,\n",
              "         3.0678e-10, 3.9844e-11, 4.3435e-11, 3.8958e-08, 7.7274e-01, 1.5036e-09,\n",
              "         5.8315e-12, 2.2706e-01, 3.1167e-09],\n",
              "        [9.4150e-10, 3.0882e-15, 1.1287e-04, 5.7262e-08, 1.2427e-03, 5.7077e-06,\n",
              "         1.7569e-05, 5.0099e-12, 8.3691e-09, 8.4415e-08, 1.6370e-06, 1.8887e-08,\n",
              "         1.8612e-09, 9.4969e-02, 4.7876e-06, 5.7780e-04, 7.9033e-06, 1.7050e-09,\n",
              "         2.1990e-08, 1.8241e-09, 5.4852e-10, 4.5363e-03, 8.9847e-01, 1.2524e-11,\n",
              "         5.8613e-06, 4.8044e-05, 1.1472e-09],\n",
              "        [1.1329e-10, 1.1248e-14, 8.6788e-05, 5.2751e-08, 9.5510e-05, 4.2508e-09,\n",
              "         3.5328e-05, 8.6578e-12, 1.2473e-06, 2.4064e-11, 2.5327e-05, 3.3734e-07,\n",
              "         4.8848e-06, 6.5223e-01, 7.1990e-07, 1.3562e-08, 1.1732e-09, 2.3163e-07,\n",
              "         1.6778e-13, 1.2268e-12, 9.1839e-12, 3.0463e-05, 3.4749e-01, 1.0438e-13,\n",
              "         9.7509e-12, 2.7832e-07, 8.4266e-09],\n",
              "        [2.1032e-08, 4.3099e-06, 3.9604e-03, 8.3248e-04, 1.9198e-06, 2.0967e-15,\n",
              "         3.8652e-04, 3.6671e-12, 7.8238e-08, 3.3622e-07, 5.6554e-03, 6.3510e-05,\n",
              "         9.0482e-01, 9.5632e-07, 2.4160e-05, 1.3076e-06, 5.0128e-05, 8.1091e-06,\n",
              "         8.0574e-10, 4.0100e-12, 3.1133e-09, 1.0943e-04, 5.4930e-02, 1.1852e-10,\n",
              "         3.6152e-09, 2.9149e-02, 9.4374e-07],\n",
              "        [3.7926e-02, 1.5567e-07, 5.9226e-07, 2.9027e-04, 3.2103e-03, 4.9209e-11,\n",
              "         1.3908e-11, 2.5284e-06, 1.9585e-08, 8.4819e-11, 4.4451e-13, 1.5481e-11,\n",
              "         6.7440e-03, 6.2602e-07, 3.1468e-04, 2.0199e-02, 8.4328e-11, 4.6139e-03,\n",
              "         2.4903e-06, 2.3641e-10, 2.0846e-08, 6.7759e-13, 9.7169e-10, 7.3094e-03,\n",
              "         9.1939e-01, 1.3619e-08, 1.3145e-10]])"
            ]
          },
          "metadata": {},
          "execution_count": 69
        }
      ]
    },
    {
      "cell_type": "code",
      "source": [
        "probs.shape"
      ],
      "metadata": {
        "colab": {
          "base_uri": "https://localhost:8080/"
        },
        "id": "dICKKajhXcQ3",
        "outputId": "a06949ef-a00f-4f10-b14e-0edf1469f46c"
      },
      "execution_count": 70,
      "outputs": [
        {
          "output_type": "execute_result",
          "data": {
            "text/plain": [
              "torch.Size([32, 27])"
            ]
          },
          "metadata": {},
          "execution_count": 70
        }
      ]
    },
    {
      "cell_type": "code",
      "source": [
        "loss = -probs[torch.arange(32), Y].log().mean()\n",
        "loss"
      ],
      "metadata": {
        "colab": {
          "base_uri": "https://localhost:8080/"
        },
        "id": "bYCNxf26X83l",
        "outputId": "a706876c-76b6-464a-effd-f8c420da0d31"
      },
      "execution_count": 74,
      "outputs": [
        {
          "output_type": "execute_result",
          "data": {
            "text/plain": [
              "tensor(17.4528)"
            ]
          },
          "metadata": {},
          "execution_count": 74
        }
      ]
    },
    {
      "cell_type": "markdown",
      "source": [
        "# Complete Network\n"
      ],
      "metadata": {
        "id": "TQ8W0FKBiXGd"
      }
    },
    {
      "cell_type": "code",
      "source": [
        "len(words)"
      ],
      "metadata": {
        "colab": {
          "base_uri": "https://localhost:8080/"
        },
        "id": "CKuQykK0qtWl",
        "outputId": "d0057b1e-1419-4d71-ba7f-61d0bf811464"
      },
      "execution_count": 193,
      "outputs": [
        {
          "output_type": "execute_result",
          "data": {
            "text/plain": [
              "32033"
            ]
          },
          "metadata": {},
          "execution_count": 193
        }
      ]
    },
    {
      "cell_type": "code",
      "source": [
        "#build entire dataset\n",
        "\n",
        "block_size = 3\n",
        "X, Y = [], []\n",
        "\n",
        "for w in words:\n",
        "  # print(w)\n",
        "  context = [0] * block_size\n",
        "\n",
        "  for ch in w + '.':\n",
        "    X.append(context)\n",
        "    Y.append(stoi[ch])\n",
        "    # print(''.join(itos[i] for i in context), '--->', ch)\n",
        "    context = context[1:] + [stoi[ch]]\n",
        "\n",
        "X = torch.tensor(X)\n",
        "Y = torch.tensor(Y)"
      ],
      "metadata": {
        "id": "INKSIaL_puMI"
      },
      "execution_count": 194,
      "outputs": []
    },
    {
      "cell_type": "code",
      "source": [
        "X.shape, Y.shape"
      ],
      "metadata": {
        "collapsed": true,
        "colab": {
          "base_uri": "https://localhost:8080/"
        },
        "id": "sdCsbxHQjSxw",
        "outputId": "db17cb62-9325-48b1-b41f-eb79d0dcd90a"
      },
      "execution_count": 195,
      "outputs": [
        {
          "output_type": "execute_result",
          "data": {
            "text/plain": [
              "(torch.Size([228146, 3]), torch.Size([228146]))"
            ]
          },
          "metadata": {},
          "execution_count": 195
        }
      ]
    },
    {
      "cell_type": "code",
      "source": [
        "g = torch.Generator().manual_seed(2147483647) # for reproducibility\n",
        "\n",
        "C = torch.randn((27, 2), generator=g)\n",
        "W1 = torch.randn((6, 100), generator=g)\n",
        "b1 = torch.randn(100, generator=g)\n",
        "W2 = torch.randn((100, 27), generator=g)\n",
        "b2 = torch.randn(27, generator=g)\n",
        "parameters = [C, W1, b1, W2, b2]"
      ],
      "metadata": {
        "id": "ZMTES2YqifiT"
      },
      "execution_count": 196,
      "outputs": []
    },
    {
      "cell_type": "code",
      "source": [
        "sum(p.nelement() for p in parameters) # number of parameters in total"
      ],
      "metadata": {
        "colab": {
          "base_uri": "https://localhost:8080/"
        },
        "id": "dCpmhEiyjDsp",
        "outputId": "32209370-c5de-45d6-b919-d891473f7ccc"
      },
      "execution_count": 197,
      "outputs": [
        {
          "output_type": "execute_result",
          "data": {
            "text/plain": [
              "3481"
            ]
          },
          "metadata": {},
          "execution_count": 197
        }
      ]
    },
    {
      "cell_type": "code",
      "source": [
        "for p in parameters:\n",
        "  p.requires_grad = True"
      ],
      "metadata": {
        "id": "jqDwGg20nbfn"
      },
      "execution_count": 198,
      "outputs": []
    },
    {
      "cell_type": "code",
      "source": [
        "#Training on entire dataset - computationally heavy\n",
        "\n",
        "for i in range(10):\n",
        "  emb = C[X] #[228146, 3, 2] on entire dataset\n",
        "  h = torch.tanh(emb.view(-1,6) @ W1 + b1)\n",
        "  logits = h @ W2 + b2\n",
        "  counts = logits.exp()\n",
        "  loss = F.cross_entropy(logits, Y) #similar to negative log likelihood (nll) #much better\n",
        "  print(loss.item())\n",
        "\n",
        "  for p in parameters:\n",
        "    p.grad = None\n",
        "  loss.backward()\n",
        "\n",
        "  for p in parameters:\n",
        "    p.data += -0.1 * p.grad"
      ],
      "metadata": {
        "colab": {
          "base_uri": "https://localhost:8080/"
        },
        "collapsed": true,
        "id": "QE2LXTCojE9D",
        "outputId": "3c225c23-f78c-4a60-fd17-1b1a2d577bda"
      },
      "execution_count": 118,
      "outputs": [
        {
          "output_type": "stream",
          "name": "stdout",
          "text": [
            "8.329227447509766\n",
            "8.144326210021973\n",
            "7.966792106628418\n",
            "7.796451091766357\n",
            "7.633185863494873\n",
            "7.476908206939697\n",
            "7.327521800994873\n",
            "7.1848859786987305\n",
            "7.048791885375977\n",
            "6.918952465057373\n"
          ]
        }
      ]
    },
    {
      "cell_type": "code",
      "source": [
        "torch.randint(0, X.shape[0], (32,)) #choosing random 32 inputs from 228146"
      ],
      "metadata": {
        "colab": {
          "base_uri": "https://localhost:8080/"
        },
        "collapsed": true,
        "id": "qbylsX-ury2c",
        "outputId": "e90d416f-b0e6-46c6-b2d9-aa522a3bab44"
      },
      "execution_count": 121,
      "outputs": [
        {
          "output_type": "execute_result",
          "data": {
            "text/plain": [
              "tensor([ 58341,  28771, 196340,  14263, 192251,  42614, 184124, 196248,  32601,\n",
              "        190800,  30981,  19321, 147794,  79320, 100052, 220905, 166702,  20930,\n",
              "         91953,  31507,  44100,  31708,  84525, 115819,  30467, 105714, 173881,\n",
              "         93663,   8597,  40078, 188375, 172227])"
            ]
          },
          "metadata": {},
          "execution_count": 121
        }
      ]
    },
    {
      "cell_type": "code",
      "source": [
        "#Batching\n",
        "\n",
        "for i in range(10):\n",
        "  #mini-batch of size 32\n",
        "  ix = torch.randint(0, X.shape[0], (32,))\n",
        "\n",
        "  #forward pass\n",
        "  emb = C[X[ix]]  #[32, 3, 2]\n",
        "  h = torch.tanh(emb.view(-1,6) @ W1 + b1)\n",
        "  logits = h @ W2 + b2\n",
        "  counts = logits.exp()\n",
        "  loss = F.cross_entropy(logits, Y[ix]) #similar to negative log likelihood (nll) #much better\n",
        "  print(loss.item())\n",
        "\n",
        "  #backward pass\n",
        "  for p in parameters:\n",
        "    p.grad = None\n",
        "  loss.backward()\n",
        "\n",
        "  #update\n",
        "  for p in parameters:\n",
        "    p.data += -0.1 * p.grad"
      ],
      "metadata": {
        "colab": {
          "base_uri": "https://localhost:8080/"
        },
        "collapsed": true,
        "id": "XTb8bcoMkGtt",
        "outputId": "1095ee42-1807-4a74-a6ef-b3602e7ed60d"
      },
      "execution_count": 160,
      "outputs": [
        {
          "output_type": "stream",
          "name": "stdout",
          "text": [
            "2.79913067817688\n",
            "3.4975976943969727\n",
            "3.4127683639526367\n",
            "2.8413007259368896\n",
            "3.0565145015716553\n",
            "2.710803508758545\n",
            "2.919243812561035\n",
            "3.1997108459472656\n",
            "2.4777839183807373\n",
            "2.6560282707214355\n"
          ]
        }
      ]
    },
    {
      "cell_type": "code",
      "source": [
        "torch.linspace(-1,1,10)"
      ],
      "metadata": {
        "colab": {
          "base_uri": "https://localhost:8080/"
        },
        "id": "iA9sIaLAvkPP",
        "outputId": "2f2dba0c-4ea4-497f-d623-e7c1c5f1d9d0"
      },
      "execution_count": 161,
      "outputs": [
        {
          "output_type": "execute_result",
          "data": {
            "text/plain": [
              "tensor([-1.0000, -0.7778, -0.5556, -0.3333, -0.1111,  0.1111,  0.3333,  0.5556,\n",
              "         0.7778,  1.0000])"
            ]
          },
          "metadata": {},
          "execution_count": 161
        }
      ]
    },
    {
      "cell_type": "code",
      "source": [
        "lre = torch.linspace(-3, 0, 5)\n",
        "lrs = 10**lre #0.001 to 1\n",
        "\n",
        "print(lre)\n",
        "print(lrs)"
      ],
      "metadata": {
        "colab": {
          "base_uri": "https://localhost:8080/"
        },
        "id": "SOygN7Cuvzp-",
        "outputId": "cab90f00-3fa5-4b9a-e4fe-187cdcba8c3c"
      },
      "execution_count": 162,
      "outputs": [
        {
          "output_type": "stream",
          "name": "stdout",
          "text": [
            "tensor([-3.0000, -2.2500, -1.5000, -0.7500,  0.0000])\n",
            "tensor([0.0010, 0.0056, 0.0316, 0.1778, 1.0000])\n"
          ]
        }
      ]
    },
    {
      "cell_type": "code",
      "source": [
        "# Finding good learning rate\n",
        "\n",
        "lre = torch.linspace(-3, 0, 1000) #learning rate exponentional\n",
        "lrs = 10**lre  #range between 10^-3 to 10^0 = [0.001, 1]"
      ],
      "metadata": {
        "id": "egwtTI5YvWnV"
      },
      "execution_count": 199,
      "outputs": []
    },
    {
      "cell_type": "code",
      "source": [
        "lri = []\n",
        "lossi = []"
      ],
      "metadata": {
        "id": "ZS93C16Zwfhx"
      },
      "execution_count": 200,
      "outputs": []
    },
    {
      "cell_type": "code",
      "source": [
        "for i in range(1000):\n",
        "  #mini-batch of size 32\n",
        "  ix = torch.randint(0, X.shape[0], (32,))\n",
        "\n",
        "  #forward pass\n",
        "  emb = C[X[ix]]  #[32, 3, 2]\n",
        "  h = torch.tanh(emb.view(-1,6) @ W1 + b1)\n",
        "  logits = h @ W2 + b2\n",
        "  counts = logits.exp()\n",
        "  loss = F.cross_entropy(logits, Y[ix]) #similar to negative log likelihood (nll) #much better\n",
        "  # print(loss.item())\n",
        "\n",
        "  #backward pass\n",
        "  for p in parameters:\n",
        "    p.grad = None\n",
        "  loss.backward()\n",
        "\n",
        "  #update\n",
        "  for p in parameters:\n",
        "    p.data += -lrs[i] * p.grad\n",
        "\n",
        "  #track stat\n",
        "  lri.append(lre[i])\n",
        "  lossi.append(loss.item())"
      ],
      "metadata": {
        "id": "Pq7CRpFAwPtS"
      },
      "execution_count": 201,
      "outputs": []
    },
    {
      "cell_type": "code",
      "source": [
        "plt.plot(lri, lossi)"
      ],
      "metadata": {
        "colab": {
          "base_uri": "https://localhost:8080/",
          "height": 448
        },
        "id": "zGHSOZ_4wpsn",
        "outputId": "edf29db0-8138-4f6c-8c91-6326e7de5f32"
      },
      "execution_count": 202,
      "outputs": [
        {
          "output_type": "execute_result",
          "data": {
            "text/plain": [
              "[<matplotlib.lines.Line2D at 0x7c09cdad0f10>]"
            ]
          },
          "metadata": {},
          "execution_count": 202
        },
        {
          "output_type": "display_data",
          "data": {
            "text/plain": [
              "<Figure size 640x480 with 1 Axes>"
            ],
            "image/png": "[encoded data removed]"
          },
          "metadata": {}
        }
      ]
    },
    {
      "cell_type": "markdown",
      "source": [
        "from the plot there is a sweet spot at 10^-1.0; lr = 0.01"
      ],
      "metadata": {
        "id": "JbibGLeUyJis"
      }
    },
    {
      "cell_type": "code",
      "source": [
        "for i in range(1000):\n",
        "  #mini-batch of size 32\n",
        "  ix = torch.randint(0, X.shape[0], (32,))\n",
        "\n",
        "  #forward pass\n",
        "  emb = C[X[ix]]  #[32, 3, 2]\n",
        "  h = torch.tanh(emb.view(-1,6) @ W1 + b1)\n",
        "  logits = h @ W2 + b2\n",
        "  counts = logits.exp()\n",
        "  loss = F.cross_entropy(logits, Y[ix]) #similar to negative log likelihood (nll) #much better\n",
        "  # print(loss.item())\n",
        "\n",
        "  #backward pass\n",
        "  for p in parameters:\n",
        "    p.grad = None\n",
        "  loss.backward()\n",
        "\n",
        "  #update\n",
        "  lr = 0.1 #learning rate\n",
        "  for p in parameters:\n",
        "    p.data += -lr * p.grad"
      ],
      "metadata": {
        "id": "S8iszocQyH7m"
      },
      "execution_count": 203,
      "outputs": []
    },
    {
      "cell_type": "code",
      "source": [
        "loss.item()"
      ],
      "metadata": {
        "colab": {
          "base_uri": "https://localhost:8080/"
        },
        "id": "25781YjjynQT",
        "outputId": "3f93f67c-83a4-4806-a301-73247004ffd2"
      },
      "execution_count": 204,
      "outputs": [
        {
          "output_type": "execute_result",
          "data": {
            "text/plain": [
              "2.2939233779907227"
            ]
          },
          "metadata": {},
          "execution_count": 204
        }
      ]
    },
    {
      "cell_type": "markdown",
      "source": [
        "# Splitting Datasets"
      ],
      "metadata": {
        "id": "FIp1k85OzhTm"
      }
    },
    {
      "cell_type": "code",
      "source": [
        "# build the dataset\n",
        "block_size = 3 # context length: how many characters do we take to predict the next one?\n",
        "\n",
        "def build_dataset(words):\n",
        "  X, Y = [], []\n",
        "  for w in words:\n",
        "    context = [0] * block_size\n",
        "    for ch in w + '.':\n",
        "      ix = stoi[ch]\n",
        "      X.append(context)\n",
        "      Y.append(ix)\n",
        "      context = context[1:] + [ix]\n",
        "\n",
        "  X = torch.tensor(X)\n",
        "  Y = torch.tensor(Y)\n",
        "  print(X.shape, Y.shape)\n",
        "  return X, Y\n",
        "\n",
        "import random\n",
        "random.seed(42)\n",
        "random.shuffle(words)\n",
        "n1 = int(0.8*len(words))\n",
        "n2 = int(0.9*len(words))\n",
        "\n",
        "Xtr, Ytr = build_dataset(words[:n1]) #80% #training\n",
        "Xdev, Ydev = build_dataset(words[n1:n2]) #10% #development - fine tuning\n",
        "Xte, Yte = build_dataset(words[n2:]) #10% #testing\n"
      ],
      "metadata": {
        "colab": {
          "base_uri": "https://localhost:8080/"
        },
        "id": "kaKApHNgzjye",
        "outputId": "06405b47-163c-4ec4-eda9-0f6d69381052"
      },
      "execution_count": 7,
      "outputs": [
        {
          "output_type": "stream",
          "name": "stdout",
          "text": [
            "torch.Size([182625, 3]) torch.Size([182625])\n",
            "torch.Size([22655, 3]) torch.Size([22655])\n",
            "torch.Size([22866, 3]) torch.Size([22866])\n"
          ]
        }
      ]
    },
    {
      "cell_type": "code",
      "source": [
        "g = torch.Generator().manual_seed(2147483647) # for reproducibility\n",
        "\n",
        "C = torch.randn((27, 10), generator=g) #embedding dim : 10\n",
        "W1 = torch.randn((30, 200), generator=g) #no. of neurons : 200\n",
        "b1 = torch.randn(200, generator=g)\n",
        "W2 = torch.randn((200, 27), generator=g)\n",
        "b2 = torch.randn(27, generator=g)\n",
        "parameters = [C, W1, b1, W2, b2]"
      ],
      "metadata": {
        "id": "RS7eRFJ9-TQW"
      },
      "execution_count": 8,
      "outputs": []
    },
    {
      "cell_type": "code",
      "source": [
        "sum(p.nelement() for p in parameters) # number of parameters in total"
      ],
      "metadata": {
        "colab": {
          "base_uri": "https://localhost:8080/"
        },
        "id": "dE1ANhKv-and",
        "outputId": "bcd5563f-d658-45e0-c307-ba8bdc9549c2"
      },
      "execution_count": 9,
      "outputs": [
        {
          "output_type": "execute_result",
          "data": {
            "text/plain": [
              "11897"
            ]
          },
          "metadata": {},
          "execution_count": 9
        }
      ]
    },
    {
      "cell_type": "code",
      "source": [
        "for p in parameters:\n",
        "  p.requires_grad = True"
      ],
      "metadata": {
        "id": "rnmqYiTV-bLD"
      },
      "execution_count": 10,
      "outputs": []
    },
    {
      "cell_type": "code",
      "source": [
        "lri = []\n",
        "lossi = []\n",
        "stepi = []"
      ],
      "metadata": {
        "id": "jIwrLCH_CG2J"
      },
      "execution_count": 11,
      "outputs": []
    },
    {
      "cell_type": "code",
      "source": [
        "for i in range(50000):\n",
        "  #mini-batch of size 32\n",
        "  ix = torch.randint(0, Xtr.shape[0], (32,))\n",
        "\n",
        "  #forward pass\n",
        "  emb = C[Xtr[ix]]\n",
        "  h = torch.tanh(emb.view(-1,30) @ W1 + b1)\n",
        "  logits = h @ W2 + b2\n",
        "  counts = logits.exp()\n",
        "  loss = F.cross_entropy(logits, Ytr[ix]) #similar to negative log likelihood (nll) #much better\n",
        "  # print(loss.item())\n",
        "\n",
        "  #backward pass\n",
        "  for p in parameters:\n",
        "    p.grad = None\n",
        "  loss.backward()\n",
        "\n",
        "  #update\n",
        "  lr = 0.01 #learning rate\n",
        "  for p in parameters:\n",
        "    p.data += -lr * p.grad\n",
        "\n",
        "  #track stats\n",
        "  #lri.append(lr)\n",
        "  stepi.append(i)\n",
        "  lossi.append(loss.log10().item())"
      ],
      "metadata": {
        "id": "k4E0XzVH63zB"
      },
      "execution_count": 20,
      "outputs": []
    },
    {
      "cell_type": "code",
      "source": [
        "plt.plot(stepi, lossi)"
      ],
      "metadata": {
        "colab": {
          "base_uri": "https://localhost:8080/",
          "height": 448
        },
        "id": "SRdW5LPv7OVw",
        "outputId": "e73efd50-bc29-46fc-c722-85bf7948d24a"
      },
      "execution_count": 21,
      "outputs": [
        {
          "output_type": "execute_result",
          "data": {
            "text/plain": [
              "[<matplotlib.lines.Line2D at 0x7ac6fbec6c90>]"
            ]
          },
          "metadata": {},
          "execution_count": 21
        },
        {
          "output_type": "display_data",
          "data": {
            "text/plain": [
              "<Figure size 640x480 with 1 Axes>"
            ],
            "image/png": "[encoded data removed]"
          },
          "metadata": {}
        }
      ]
    },
    {
      "cell_type": "code",
      "source": [
        "#evaluating entire dataset\n",
        "\n",
        "emb = C[Xtr]\n",
        "h = torch.tanh(emb.view(-1,30) @ W1 + b1)\n",
        "logits = h @ W2 + b2\n",
        "counts = logits.exp()\n",
        "loss = F.cross_entropy(logits, Ytr)\n",
        "loss.item()"
      ],
      "metadata": {
        "colab": {
          "base_uri": "https://localhost:8080/"
        },
        "id": "fG8Og-8ZCB2X",
        "outputId": "29823626-c54f-4183-f70b-f0ea2058a22f"
      },
      "execution_count": 22,
      "outputs": [
        {
          "output_type": "execute_result",
          "data": {
            "text/plain": [
              "2.119410753250122"
            ]
          },
          "metadata": {},
          "execution_count": 22
        }
      ]
    },
    {
      "cell_type": "code",
      "source": [
        "#evaluating dev dataset\n",
        "\n",
        "emb = C[Xdev]\n",
        "h = torch.tanh(emb.view(-1,30) @ W1 + b1)\n",
        "logits = h @ W2 + b2\n",
        "counts = logits.exp()\n",
        "loss = F.cross_entropy(logits, Ydev)\n",
        "loss.item()"
      ],
      "metadata": {
        "colab": {
          "base_uri": "https://localhost:8080/"
        },
        "id": "qNCGT0B77Y1Y",
        "outputId": "8d571895-f41d-4f8b-93cb-c8f2fb03c3c4"
      },
      "execution_count": 23,
      "outputs": [
        {
          "output_type": "execute_result",
          "data": {
            "text/plain": [
              "2.158998966217041"
            ]
          },
          "metadata": {},
          "execution_count": 23
        }
      ]
    },
    {
      "cell_type": "code",
      "source": [
        "# visualize dimensions 0 and 1 of the embedding matrix C for all characters\n",
        "plt.figure(figsize=(8,8))\n",
        "plt.scatter(C[:,0].data, C[:,1].data, s=200)\n",
        "for i in range(C.shape[0]):\n",
        "    plt.text(C[i,0].item(), C[i,1].item(), itos[i], ha=\"center\", va=\"center\", color='white')\n",
        "plt.grid('minor')"
      ],
      "metadata": {
        "colab": {
          "base_uri": "https://localhost:8080/",
          "height": 677
        },
        "id": "IOLSoJ6u-Juc",
        "outputId": "90fb2de4-e26c-43a3-c810-88836b17d137"
      },
      "execution_count": 24,
      "outputs": [
        {
          "output_type": "display_data",
          "data": {
            "text/plain": [
              "<Figure size 800x800 with 1 Axes>"
            ],
            "image/png": "[encoded data removed]"
          },
          "metadata": {}
        }
      ]
    },
    {
      "cell_type": "markdown",
      "source": [
        "# Sampling"
      ],
      "metadata": {
        "id": "N-BqFONquO8E"
      }
    },
    {
      "cell_type": "code",
      "source": [
        "context = [0] * block_size\n",
        "C[torch.tensor([context])]"
      ],
      "metadata": {
        "colab": {
          "base_uri": "https://localhost:8080/"
        },
        "id": "glV1U506uTm_",
        "outputId": "bc9d8d03-157f-4133-acca-c993113036bf"
      },
      "execution_count": 26,
      "outputs": [
        {
          "output_type": "execute_result",
          "data": {
            "text/plain": [
              "tensor([[[ 1.4100,  0.6794,  0.4092, -0.8355,  0.2942, -0.1996, -0.9864,\n",
              "           0.7518,  0.5582,  1.0820],\n",
              "         [ 1.4100,  0.6794,  0.4092, -0.8355,  0.2942, -0.1996, -0.9864,\n",
              "           0.7518,  0.5582,  1.0820],\n",
              "         [ 1.4100,  0.6794,  0.4092, -0.8355,  0.2942, -0.1996, -0.9864,\n",
              "           0.7518,  0.5582,  1.0820]]], grad_fn=<IndexBackward0>)"
            ]
          },
          "metadata": {},
          "execution_count": 26
        }
      ]
    },
    {
      "cell_type": "code",
      "source": [
        "# sample from the model\n",
        "g = torch.Generator().manual_seed(2147483647 + 10)\n",
        "\n",
        "for _ in range(20):\n",
        "\n",
        "    out = []\n",
        "    context = [0] * block_size # initialize with all ...\n",
        "    while True:\n",
        "      emb = C[torch.tensor([context])] # (1,block_size,d)\n",
        "      h = torch.tanh(emb.view(1, -1) @ W1 + b1)\n",
        "      logits = h @ W2 + b2\n",
        "      probs = F.softmax(logits, dim=1)\n",
        "      ix = torch.multinomial(probs, num_samples=1, generator=g).item()\n",
        "      context = context[1:] + [ix]\n",
        "      out.append(ix)\n",
        "      if ix == 0:\n",
        "        break\n",
        "\n",
        "    print(''.join(itos[i] for i in out))"
      ],
      "metadata": {
        "colab": {
          "base_uri": "https://localhost:8080/"
        },
        "id": "VfFY4kYouOUy",
        "outputId": "90c6a56b-5e61-4378-fc45-cd8c97baab13"
      },
      "execution_count": 27,
      "outputs": [
        {
          "output_type": "stream",
          "name": "stdout",
          "text": [
            "mora.\n",
            "kayah.\n",
            "seen.\n",
            "nihayla.\n",
            "rethruthadrie.\n",
            "caileed.\n",
            "elin.\n",
            "shi.\n",
            "jen.\n",
            "edelieanana.\n",
            "selyn.\n",
            "malaia.\n",
            "nosalbergahiriel.\n",
            "kendreelynn.\n",
            "nophir.\n",
            "ubuka.\n",
            "dariyah.\n",
            "faeh.\n",
            "yule.\n",
            "myskolanihia.\n"
          ]
        }
      ]
    }
  ]
}